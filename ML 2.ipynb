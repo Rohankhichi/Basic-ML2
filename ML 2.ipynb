{
 "cells": [
  {
   "cell_type": "markdown",
   "id": "5e414c92-ca3a-4a1a-8836-49b18838096d",
   "metadata": {},
   "source": [
    "Q1: Define overfitting and underfitting in machine learning. What are the consequences of each, and how\n",
    "can they be mitigated?"
   ]
  },
  {
   "cell_type": "markdown",
   "id": "53fe9117-f80b-4c55-863a-b21f22c72391",
   "metadata": {},
   "source": [
    "A1: Underfit models experience high bias—they give inaccurate results for both the training data and test set. On the other hand, overfit models experience high variance—they give accurate results for the training set but not for the test set."
   ]
  },
  {
   "cell_type": "markdown",
   "id": "466c7279-6f81-4cf9-9557-d724a36330f7",
   "metadata": {},
   "source": [
    "Q2: How can we reduce overfitting? Explain in brief."
   ]
  },
  {
   "cell_type": "markdown",
   "id": "cf11deb5-5008-4cca-82c0-3c39966f0c81",
   "metadata": {},
   "source": [
    "A2: you can prevent overfitting by diversifying and scaling your training data set or using some other data science strategies, like those given below.\n",
    "Early stopping. Early stopping pauses the training phase before the machine learning model learns the noise in the data. ...\n",
    "Pruning. ...\n",
    "Regularization. ...\n",
    "Ensembling. ...\n",
    "Data augmentation."
   ]
  },
  {
   "cell_type": "markdown",
   "id": "e23a6db4-b8ce-4425-a0a5-d0da63a0d9d7",
   "metadata": {},
   "source": [
    "Q3: Explain underfitting. List scenarios where underfitting can occur in ML."
   ]
  },
  {
   "cell_type": "markdown",
   "id": "d029892e-3e73-47d4-869a-500c23995909",
   "metadata": {},
   "source": [
    "A3: Underfitting occurs when a model is too simplistic to grasp the underlying patterns in the data. It lacks the complexity needed to adequately represent the relationships present, resulting in poor performance on both the training and new data."
   ]
  },
  {
   "cell_type": "markdown",
   "id": "8bd4cd77-e22a-49fb-9fd4-380c74635878",
   "metadata": {},
   "source": [
    "Q4: Explain the bias-variance tradeoff in machine learning. What is the relationship between bias and\n",
    "variance, and how do they affect model performance?"
   ]
  },
  {
   "cell_type": "markdown",
   "id": "4d0405bd-28c3-4d86-9b16-6926cf6f3e8e",
   "metadata": {},
   "source": [
    "A4: Bias-Variance Tradeoff\n",
    "It helps optimize the error in our model and keeps it as low as possible. An optimized model will be sensitive to the patterns in our data, but at the same time will be able to generalize to new data. In this, both the bias and variance should be low so as to prevent overfitting and underfitting."
   ]
  },
  {
   "cell_type": "markdown",
   "id": "495dcaee-4076-401b-a36b-8db34e1cba38",
   "metadata": {},
   "source": [
    "Q5: Discuss some common methods for detecting overfitting and underfitting in machine learning models.\n",
    "How can you determine whether your model is overfitting or underfitting?"
   ]
  },
  {
   "cell_type": "markdown",
   "id": "07f438b1-f742-438b-8783-36eff9a4902f",
   "metadata": {},
   "source": [
    "A5: We can determine whether a predictive model is underfitting or overfitting the training data by looking at the prediction error on the training data and the evaluation data. Your model is underfitting the training data when the model performs poorly on the training data."
   ]
  },
  {
   "cell_type": "markdown",
   "id": "4dca0bb5-5c9a-49e8-b4f6-04c3ec652883",
   "metadata": {},
   "source": [
    "Q6: Compare and contrast bias and variance in machine learning. What are some examples of high bias\n",
    "and high variance models, and how do they differ in terms of their performance?"
   ]
  },
  {
   "cell_type": "markdown",
   "id": "7bb9f19d-7a7f-465b-b709-0ec21be5c64e",
   "metadata": {},
   "source": [
    "A6: Understanding bias and variance, which have roots in statistics, is essential for data scientists involved in machine learning. Bias and variance are used in supervised machine learning, in which an algorithm learns from training data or a sample data set of known quantities. The correct balance of bias and variance is vital to building machine-learning algorithms that create accurate results from their models.\n",
    "Examples -\n",
    "Linear Regression\tHigh Bias\tLess Variance\n",
    "Decision Tree\tLow Bias\tHigh Variance\n",
    "Bagging\tLow Bias\tHigh Variance (Less than Decision Tree)\n",
    "Random Forest\tLow Bias\tHigh Variance (Less than Decision Tree and Bagging)"
   ]
  },
  {
   "cell_type": "markdown",
   "id": "1b6a3f47-e6ab-47c8-9f01-89123f8ff2c6",
   "metadata": {},
   "source": [
    "Q7: What is regularization in machine learning, and how can it be used to prevent overfitting? Describe\n",
    "some common regularization techniques and how they work."
   ]
  },
  {
   "cell_type": "markdown",
   "id": "66201d86-a838-4f15-a614-2bfb2d07d8e5",
   "metadata": {},
   "source": [
    "A7: Regularization is a technique used to reduce errors by fitting the function appropriately on the given training set and avoiding overfitting. The commonly used regularization techniques are : Lasso Regularization – L1 Regularization. Ridge Regularization – L2 Regularization."
   ]
  },
  {
   "cell_type": "code",
   "execution_count": null,
   "id": "4dc63e3b-a96b-42c0-a44b-d29ba48ee9c8",
   "metadata": {},
   "outputs": [],
   "source": []
  }
 ],
 "metadata": {
  "kernelspec": {
   "display_name": "Python 3 (ipykernel)",
   "language": "python",
   "name": "python3"
  },
  "language_info": {
   "codemirror_mode": {
    "name": "ipython",
    "version": 3
   },
   "file_extension": ".py",
   "mimetype": "text/x-python",
   "name": "python",
   "nbconvert_exporter": "python",
   "pygments_lexer": "ipython3",
   "version": "3.10.8"
  }
 },
 "nbformat": 4,
 "nbformat_minor": 5
}
